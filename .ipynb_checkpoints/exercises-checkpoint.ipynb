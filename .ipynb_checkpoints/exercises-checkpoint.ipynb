{
 "cells": [
  {
   "cell_type": "markdown",
   "metadata": {},
   "source": [
    "# These are my Python exercises"
   ]
  },
  {
   "cell_type": "code",
   "execution_count": 83,
   "metadata": {},
   "outputs": [
    {
     "name": "stdout",
     "output_type": "stream",
     "text": [
      "80\n"
     ]
    }
   ],
   "source": [
    "x=20 * 4\n",
    "print (x)"
   ]
  },
  {
   "cell_type": "code",
   "execution_count": 84,
   "metadata": {},
   "outputs": [
    {
     "name": "stdout",
     "output_type": "stream",
     "text": [
      "80\n"
     ]
    }
   ],
   "source": [
    "x=20\n",
    "y=4\n",
    "print (x * y)"
   ]
  },
  {
   "cell_type": "code",
   "execution_count": 85,
   "metadata": {},
   "outputs": [
    {
     "name": "stdout",
     "output_type": "stream",
     "text": [
      "80\n"
     ]
    }
   ],
   "source": [
    "print (20 * 4)"
   ]
  },
  {
   "cell_type": "code",
   "execution_count": 86,
   "metadata": {},
   "outputs": [
    {
     "name": "stdout",
     "output_type": "stream",
     "text": [
      "80\n"
     ]
    }
   ],
   "source": [
    "x=20\n",
    "x*=4\n",
    "print (x)"
   ]
  },
  {
   "cell_type": "code",
   "execution_count": 87,
   "metadata": {},
   "outputs": [
    {
     "name": "stdout",
     "output_type": "stream",
     "text": [
      "I've mastered decision making\n"
     ]
    }
   ],
   "source": [
    "a=100\n",
    "b=50\n",
    "if a>b:\n",
    "    print (\"I've mastered decision making\")"
   ]
  },
  {
   "cell_type": "code",
   "execution_count": 206,
   "metadata": {},
   "outputs": [
    {
     "name": "stdout",
     "output_type": "stream",
     "text": [
      "['Pad Thai', 'Medium Well Steak', 'mushroom']\n",
      "Pad Thai\n",
      "Medium Well Steak\n",
      "mushroom\n"
     ]
    }
   ],
   "source": [
    "food_good =[\"Pad Thai\", \"Medium Well Steak\",\"mushroom\"]\n",
    "print (food_good)\n",
    "print (food_good[0])\n",
    "print (food_good[1])\n",
    "print (food_good[2])"
   ]
  },
  {
   "cell_type": "code",
   "execution_count": 207,
   "metadata": {},
   "outputs": [
    {
     "name": "stdout",
     "output_type": "stream",
     "text": [
      "('cucumber', 'carrot', 'celery')\n",
      "cucumber\n",
      "carrot\n",
      "celery\n"
     ]
    }
   ],
   "source": [
    "footuple = (\"cucumber\",\"carrot\",\"celery\")\n",
    "print (footuple)\n",
    "print (footuple[0])\n",
    "print (footuple[1])\n",
    "print (footuple[2])"
   ]
  },
  {
   "cell_type": "code",
   "execution_count": 209,
   "metadata": {},
   "outputs": [
    {
     "name": "stdout",
     "output_type": "stream",
     "text": [
      "{'chocolate', 'ice cream', 'M&M'}\n",
      "chocolate\n",
      "ice cream\n",
      "M&M\n"
     ]
    }
   ],
   "source": [
    "sfood = {\"ice cream\",\"chocolate\",\"M&M\"}\n",
    "print (sfood)\n",
    "print (\"chocolate\")\n",
    "print (\"ice cream\")\n",
    "print (\"M&M\")"
   ]
  },
  {
   "cell_type": "code",
   "execution_count": 210,
   "metadata": {},
   "outputs": [
    {
     "name": "stdout",
     "output_type": "stream",
     "text": [
      "{'pad thai': 'list', 'cucumber': 'tuple', 'ice cream': 'set'}\n",
      "list\n",
      "tuple\n",
      "set\n"
     ]
    }
   ],
   "source": [
    "foodict = {\"pad thai\":\"list\",\n",
    "           \"cucumber\":\"tuple\",\n",
    "           \"ice cream\":\"set\"}\n",
    "print (foodict)\n",
    "x = foodict [\"pad thai\"]\n",
    "c = foodict [\"cucumber\"]\n",
    "z = foodict [\"ice cream\"]\n",
    "print (x)\n",
    "print (c)\n",
    "print (z)"
   ]
  }
 ],
 "metadata": {
  "kernelspec": {
   "display_name": "Python 3",
   "language": "python",
   "name": "python3"
  },
  "language_info": {
   "codemirror_mode": {
    "name": "ipython",
    "version": 3
   },
   "file_extension": ".py",
   "mimetype": "text/x-python",
   "name": "python",
   "nbconvert_exporter": "python",
   "pygments_lexer": "ipython3",
   "version": "3.7.3"
  }
 },
 "nbformat": 4,
 "nbformat_minor": 2
}

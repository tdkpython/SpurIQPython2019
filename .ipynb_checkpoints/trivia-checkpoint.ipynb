{
 "cells": [
  {
   "cell_type": "markdown",
   "metadata": {},
   "source": [
    "# Data Base & setup"
   ]
  },
  {
   "cell_type": "code",
   "execution_count": null,
   "metadata": {},
   "outputs": [],
   "source": [
    "import random\n",
    "import sqlite3"
   ]
  },
  {
   "cell_type": "code",
   "execution_count": null,
   "metadata": {},
   "outputs": [],
   "source": [
    "def createTable():\n",
    "    mydb = sqlite3.connect(\"mydatabase.db\")\n",
    "    mycursor = mydb.cursor()\n",
    "    mycursor.execute(\"CREATE TABLE triviaQs (id INTEGER PRIMARY KEY, question VARCHAR(255), answer VARCHAR(255), sub category VARCHAR(255))\")\n",
    "    mydb.close()"
   ]
  },
  {
   "cell_type": "code",
   "execution_count": null,
   "metadata": {},
   "outputs": [],
   "source": [
    "def FillTable():\n",
    "    mydb = sqlite3.connect(\"mydatabase.db\")\n",
    "    mycursor = mydb.cursor()\n",
    "    sql = \"INSERT INTO triviaQs (question, answer, sub category) VALUES (?, ?, ?)\"\n",
    "    val = [\n",
    "    ('The highest place on earth is located in witch country?', 'Nepal, In Nepal', 'asia'),\n",
    "    ('The Taj Mahal is located in which Indian city?', 'Agra, In Agra', 'asia', ),\n",
    "    ('what is the name of the lowest place in the world?', 'Death sea, The Death sea', 'asia'),\n",
    "    (' What mountain range runs along the northern border of India?', 'Himalayan Mountains, the Himalayas'),\n",
    "    ('What is the capital of Afghanistan?', 'Kabul'), \n",
    "    ('Which artificial waterway connects the Pacific Ocean to the Atlantic Ocean','Panama kanal, the Panama kanal', 'water'), \n",
    "    ('Which is the longest river in the world?', 'the nile river', 'water'), \n",
    "    ('What is the largest lake in Africa?', 'lake victoria', 'water'), \n",
    "    ('The river Liffey flows through the center of which European city?', 'dublin', 'water'), \n",
    "    ('. Apart from the five oceans, which is the largest sea in the world', 'The Philippines Sea', 'water')\n",
    "    ('what is the largest')]\n",
    "    mycursor.executemany(sql, val)\n",
    "    print(mycursor.rowcount)\n",
    "    mydb.commit()\n",
    "    mydb.close()"
   ]
  }
 ],
 "metadata": {
  "kernelspec": {
   "display_name": "Python 3",
   "language": "python",
   "name": "python3"
  },
  "language_info": {
   "codemirror_mode": {
    "name": "ipython",
    "version": 3
   },
   "file_extension": ".py",
   "mimetype": "text/x-python",
   "name": "python",
   "nbconvert_exporter": "python",
   "pygments_lexer": "ipython3",
   "version": "3.7.3"
  }
 },
 "nbformat": 4,
 "nbformat_minor": 2
}

{
 "cells": [
  {
   "cell_type": "markdown",
   "metadata": {},
   "source": [
    "# Data Base & setup"
   ]
  },
  {
   "cell_type": "code",
   "execution_count": 2,
   "metadata": {},
   "outputs": [],
   "source": [
    "import random\n",
    "import sqlite3"
   ]
  },
  {
   "cell_type": "code",
   "execution_count": 3,
   "metadata": {},
   "outputs": [],
   "source": [
    "def createTable():\n",
    "    mydb = sqlite3.connect(\"mydatabase.db\")\n",
    "    mycursor = mydb.cursor()\n",
    "    mycursor.execute(\"CREATE TABLE triviaQs (id INTEGER PRIMARY KEY, question VARCHAR(255), answer VARCHAR(255), category VARCHAR(255))\")\n",
    "    mydb.close()\n",
    "def DeleteTable():\n",
    "    mydb = sqlite3.connect(\"mydatabase.db\")\n",
    "    mycursor = mydb.cursor()\n",
    "    sql = \"DROP TABLE IF EXISTS triviaQs\"\n",
    "    mycursor.execute(sql)\n",
    "    mydb.close()\n",
    "def FillTable():\n",
    "    mydb = sqlite3.connect(\"mydatabase.db\")\n",
    "    mycursor = mydb.cursor()\n",
    "    sql = \"INSERT INTO triviaQs (question, answer, category) VALUES (?, ?, ?)\"\n",
    "    val = [\n",
    "    ('The highest place on earth is located in witch country?', 'nepal, in nepal', 'asia'),\n",
    "    ('The Taj Mahal is located in which Indian city?', 'agra, in agra', 'asia'),\n",
    "    ('what is the name of the lowest place in the world?', 'death sea, the death sea', 'asia'),\n",
    "    ('What mountain range runs along the northern border of India?', 'himalayan mountains, the himalayas', 'asia'),\n",
    "    ('What is the capital of Afghanistan?', 'kabul', 'asia'), \n",
    "    ('Which artificial waterway connects the Pacific Ocean to the Atlantic Ocean?','panama kanal, the panama kanal', 'water'), \n",
    "    ('Which is the longest river in the world?', 'the nile river', 'water'), \n",
    "    ('What is the largest lake in Africa?', 'lake victoria', 'water'), \n",
    "    ('The river Liffey flows through the center of which European city?', 'dublin', 'water'), \n",
    "    ('. Apart from the five oceans, which is the largest sea in the world', 'the philippines sea', 'water'),\n",
    "    ('what is the largest country in the world?', 'russia', 'lands'), \n",
    "    ('what is the biggest containment on earth?', 'asia', 'lands'), \n",
    "    ('how many countries are there in Africa?', '54', 'lands'), \n",
    "    ('what containment without Antartica has the least countries', 'south america', 'lands'), \n",
    "    ('how many containments are there', '7', 'lands'),\n",
    "    (' Beverly Hills is a suburb of which U.S. city?', 'los angeles', 'america'), \n",
    "    ('In which U.S. state is Death Valley?', 'california, ca', 'america'),\n",
    "    (' What is the highest mountain in North America?', 'denali', 'america'), \n",
    "    ('What is the national emblem of Canada?', 'the maple Leaf', 'america'),\n",
    "    ('Which is the least populated U.S. state?', 'wyoming', 'america'),\n",
    "    ]\n",
    "    mycursor.executemany(sql, val)\n",
    "    mydb.commit()\n",
    "    mydb.close()\n",
    "def getQuestions(categories):\n",
    "    mydb = sqlite3.connect(\"mydatabase.db\")\n",
    "    mycursor = mydb.cursor()\n",
    "    sql = \"SELECT * FROM TriviaQs WHERE Category = ? OR Category = ? OR Category = ?\"\n",
    "    val = [categories[0],categories[1],categories[2],]\n",
    "    mycursor.execute(sql,val)\n",
    "    results = mycursor.fetchall()\n",
    "    return results"
   ]
  },
  {
   "cell_type": "code",
   "execution_count": null,
   "metadata": {},
   "outputs": [
    {
     "name": "stdout",
     "output_type": "stream",
     "text": [
      "Do you want to play Geography Trivia with Asia, water, lands, or America? Please choose three. lands, asia, water\n",
      "lands, asia, water\n",
      "\n",
      "Beginning the Trivia game. Please type 'quit' to exit at any time.\n",
      "what is the largest country in the world? russia\n",
      "Correct!\n",
      "Your score: 1\n",
      "\n"
     ]
    }
   ],
   "source": [
    "DeleteTable()\n",
    "createTable()\n",
    "FillTable()\n",
    "\n",
    "category = input(\"Do you want to play Geography Trivia with Asia, water, lands, or America? Please choose three. \")\n",
    "categories = category.lower().split(\",\")\n",
    "print(category)\n",
    "print(\"\")\n",
    "print(\"Beginning the Trivia game. Please type 'quit' to exit at any time.\")\n",
    "questions = getQuestions(categories)\n",
    "numQuestions = len(questions)\n",
    "score = 0\n",
    "while True:\n",
    "    if len(questions) == 0:\n",
    "        print(\"That's all! Thanks for playing!\")\n",
    "        print(\"Your score for geogrphy was: \" + str(score) + \" out of \" + str(numQuestions))\n",
    "        break\n",
    "    selected = random.choice(questions)\n",
    "    question = selected[1]\n",
    "    correct_answer = selected[2]\n",
    "    questions.remove(selected)\n",
    "    user_answer = input(question + \" \")\n",
    "    if user_answer.lower() == 'quit':\n",
    "        print(\"Exiting game...\")\n",
    "        print(\"Your score for geography was: \" + str(score) + \" out of \" + str(numQuestions))\n",
    "        break\n",
    "    elif user_answer.lower() == correct_answer:\n",
    "        print(\"Correct!\")\n",
    "        score += 1\n",
    "    else:\n",
    "        print(\"Incorrect!\")\n",
    "    print(\"Your score:\",score)\n",
    "    print(\"\")\n",
    "    "
   ]
  },
  {
   "cell_type": "code",
   "execution_count": null,
   "metadata": {},
   "outputs": [],
   "source": []
  }
 ],
 "metadata": {
  "kernelspec": {
   "display_name": "Python 3",
   "language": "python",
   "name": "python3"
  },
  "language_info": {
   "codemirror_mode": {
    "name": "ipython",
    "version": 3
   },
   "file_extension": ".py",
   "mimetype": "text/x-python",
   "name": "python",
   "nbconvert_exporter": "python",
   "pygments_lexer": "ipython3",
   "version": "3.7.3"
  }
 },
 "nbformat": 4,
 "nbformat_minor": 2
}

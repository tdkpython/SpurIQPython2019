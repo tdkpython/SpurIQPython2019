{
 "cells": [
  {
   "cell_type": "markdown",
   "metadata": {},
   "source": [
    "![](https://i0.wp.com/spuriq.com/wp-content/uploads/2019/03/spuriq_site_logo_tagline.png?zoom=2&fit=150%2C69&ssl=1)"
   ]
  },
  {
   "cell_type": "markdown",
   "metadata": {},
   "source": [
    "# SQL and SQLite"
   ]
  },
  {
   "cell_type": "markdown",
   "metadata": {},
   "source": [
    "## Setup"
   ]
  },
  {
   "cell_type": "code",
   "execution_count": 1,
   "metadata": {},
   "outputs": [],
   "source": [
    "import sqlite3"
   ]
  },
  {
   "cell_type": "markdown",
   "metadata": {},
   "source": [
    "## Creating a Database"
   ]
  },
  {
   "cell_type": "code",
   "execution_count": 2,
   "metadata": {},
   "outputs": [],
   "source": [
    "mydb = sqlite3.connect(\"mydatabase.db\")\n",
    "mydb.close()"
   ]
  },
  {
   "cell_type": "markdown",
   "metadata": {},
   "source": [
    "## Creating a SQL Table"
   ]
  },
  {
   "cell_type": "code",
   "execution_count": 1,
   "metadata": {},
   "outputs": [
    {
     "ename": "NameError",
     "evalue": "name 'sqlite3' is not defined",
     "output_type": "error",
     "traceback": [
      "\u001b[1;31m---------------------------------------------------------------------------\u001b[0m",
      "\u001b[1;31mNameError\u001b[0m                                 Traceback (most recent call last)",
      "\u001b[1;32m<ipython-input-1-495f9b73c442>\u001b[0m in \u001b[0;36m<module>\u001b[1;34m\u001b[0m\n\u001b[1;32m----> 1\u001b[1;33m \u001b[0mmydb\u001b[0m \u001b[1;33m=\u001b[0m \u001b[0msqlite3\u001b[0m\u001b[1;33m.\u001b[0m\u001b[0mconnect\u001b[0m\u001b[1;33m(\u001b[0m\u001b[1;34m\"mydatabase.db\"\u001b[0m\u001b[1;33m)\u001b[0m\u001b[1;33m\u001b[0m\u001b[1;33m\u001b[0m\u001b[0m\n\u001b[0m\u001b[0;32m      2\u001b[0m \u001b[0mmycursor\u001b[0m \u001b[1;33m=\u001b[0m \u001b[0mmydb\u001b[0m\u001b[1;33m.\u001b[0m\u001b[0mcursor\u001b[0m\u001b[1;33m(\u001b[0m\u001b[1;33m)\u001b[0m\u001b[1;33m\u001b[0m\u001b[1;33m\u001b[0m\u001b[0m\n\u001b[0;32m      3\u001b[0m \u001b[0mmycursor\u001b[0m\u001b[1;33m.\u001b[0m\u001b[0mexecute\u001b[0m\u001b[1;33m(\u001b[0m\u001b[1;34m\"CREATE TABLE customers (id INTEGER PRIMARY KEY, name VARCHAR(255), address VARCHAR(255))\"\u001b[0m\u001b[1;33m)\u001b[0m\u001b[1;33m\u001b[0m\u001b[1;33m\u001b[0m\u001b[0m\n\u001b[0;32m      4\u001b[0m \u001b[0mmydb\u001b[0m\u001b[1;33m.\u001b[0m\u001b[0mclose\u001b[0m\u001b[1;33m(\u001b[0m\u001b[1;33m)\u001b[0m\u001b[1;33m\u001b[0m\u001b[1;33m\u001b[0m\u001b[0m\n",
      "\u001b[1;31mNameError\u001b[0m: name 'sqlite3' is not defined"
     ]
    }
   ],
   "source": [
    "mydb = sqlite3.connect(\"mydatabase.db\")\n",
    "mycursor = mydb.cursor()\n",
    "mycursor.execute(\"CREATE TABLE customers (id INTEGER PRIMARY KEY, name VARCHAR(255), address VARCHAR(255))\")\n",
    "mydb.close()"
   ]
  },
  {
   "cell_type": "markdown",
   "metadata": {},
   "source": [
    "## Check If a Table Exists"
   ]
  },
  {
   "cell_type": "code",
   "execution_count": 4,
   "metadata": {},
   "outputs": [
    {
     "name": "stdout",
     "output_type": "stream",
     "text": [
      "('customers',)\n"
     ]
    }
   ],
   "source": [
    "mydb = sqlite3.connect(\"mydatabase.db\")\n",
    "mycursor = mydb.cursor()\n",
    "mycursor.execute(\"SELECT name from sqlite_master where type='table'\")\n",
    "tableData = mycursor.fetchall()\n",
    "for x in tableData:\n",
    "  print(x)\n",
    "mydb.close()"
   ]
  },
  {
   "cell_type": "markdown",
   "metadata": {},
   "source": [
    "## Inserting Data Into a Table"
   ]
  },
  {
   "cell_type": "code",
   "execution_count": 5,
   "metadata": {},
   "outputs": [
    {
     "name": "stdout",
     "output_type": "stream",
     "text": [
      "5\n"
     ]
    }
   ],
   "source": [
    "mydb = sqlite3.connect(\"mydatabase.db\")\n",
    "mycursor = mydb.cursor()\n",
    "sql = \"INSERT INTO customers (name, address) VALUES (?, ?)\"\n",
    "val = [\n",
    "('Peter', 'Lowstreet 4'),\n",
    "('Amy', 'Apple st 652'),\n",
    "('Susan', 'One way 98'),\n",
    "('Vicky', 'Yellow Garden 2'),\n",
    "('Ben', 'Park Lane 38'),\n",
    "]\n",
    "mycursor.executemany(sql, val)\n",
    "print(mycursor.rowcount)        # check how many rows entered\n",
    "mydb.commit()\n",
    "mydb.close()"
   ]
  },
  {
   "cell_type": "markdown",
   "metadata": {},
   "source": [
    "## Selecting Data From a Table"
   ]
  },
  {
   "cell_type": "code",
   "execution_count": 6,
   "metadata": {},
   "outputs": [
    {
     "name": "stdout",
     "output_type": "stream",
     "text": [
      "(1, 'Peter', 'Lowstreet 4')\n",
      "(2, 'Amy', 'Apple st 652')\n",
      "(3, 'Susan', 'One way 98')\n",
      "(4, 'Vicky', 'Yellow Garden 2')\n",
      "(5, 'Ben', 'Park Lane 38')\n"
     ]
    }
   ],
   "source": [
    "mydb = sqlite3.connect(\"mydatabase.db\")\n",
    "mycursor = mydb.cursor()\n",
    "sql = \"SELECT * FROM customers\"\n",
    "mycursor.execute(sql)\n",
    "tableData = mycursor.fetchall()\n",
    "for x in tableData:\n",
    "  print(x)\n",
    "mydb.commit()\n",
    "mydb.close()"
   ]
  },
  {
   "cell_type": "markdown",
   "metadata": {},
   "source": [
    "## Using the WHERE Clause"
   ]
  },
  {
   "cell_type": "code",
   "execution_count": 7,
   "metadata": {},
   "outputs": [],
   "source": [
    "# \"SELECT name, address FROM customers\"\n",
    "# \"SELECT name, address FROM customers WHERE address = 'Lowstreet 4'\"\n",
    "# \"SELECT name, address FROM customers WHERE address LIKE %way%\""
   ]
  },
  {
   "cell_type": "code",
   "execution_count": 8,
   "metadata": {},
   "outputs": [
    {
     "name": "stdout",
     "output_type": "stream",
     "text": [
      "('Peter', 'Lowstreet 4')\n"
     ]
    }
   ],
   "source": [
    "mydb = sqlite3.connect(\"mydatabase.db\")\n",
    "mycursor = mydb.cursor()\n",
    "mycursor.execute(\"SELECT name, address FROM customers WHERE address = 'Lowstreet 4'\")\n",
    "myresult = mycursor.fetchall()\n",
    "for x in myresult:\n",
    "  print(x)\n",
    "mydb.close()"
   ]
  },
  {
   "cell_type": "markdown",
   "metadata": {},
   "source": [
    "## Ordering SQL Results"
   ]
  },
  {
   "cell_type": "code",
   "execution_count": 9,
   "metadata": {},
   "outputs": [
    {
     "name": "stdout",
     "output_type": "stream",
     "text": [
      "(2, 'Amy', 'Apple st 652')\n",
      "(5, 'Ben', 'Park Lane 38')\n",
      "(1, 'Peter', 'Lowstreet 4')\n",
      "(3, 'Susan', 'One way 98')\n",
      "(4, 'Vicky', 'Yellow Garden 2')\n"
     ]
    }
   ],
   "source": [
    "mydb = sqlite3.connect(\"mydatabase.db\")\n",
    "mycursor = mydb.cursor()\n",
    "sql = \"SELECT * FROM customers ORDER BY name\"\n",
    "mycursor.execute(sql)\n",
    "myresult = mycursor.fetchall()\n",
    "for x in myresult:\n",
    "  print(x)\n",
    "mydb.close()"
   ]
  },
  {
   "cell_type": "code",
   "execution_count": 10,
   "metadata": {},
   "outputs": [
    {
     "name": "stdout",
     "output_type": "stream",
     "text": [
      "(4, 'Vicky', 'Yellow Garden 2')\n",
      "(3, 'Susan', 'One way 98')\n",
      "(1, 'Peter', 'Lowstreet 4')\n",
      "(5, 'Ben', 'Park Lane 38')\n",
      "(2, 'Amy', 'Apple st 652')\n"
     ]
    }
   ],
   "source": [
    "mydb = sqlite3.connect(\"mydatabase.db\")\n",
    "mycursor = mydb.cursor()\n",
    "sql = \"SELECT * FROM customers ORDER BY name DESC\"\n",
    "mycursor.execute(sql)\n",
    "myresult = mycursor.fetchall()\n",
    "for x in myresult:\n",
    "  print(x)\n",
    "mydb.close()"
   ]
  },
  {
   "cell_type": "markdown",
   "metadata": {},
   "source": [
    "## Updating Table Records"
   ]
  },
  {
   "cell_type": "code",
   "execution_count": 11,
   "metadata": {},
   "outputs": [],
   "source": [
    "mydb = sqlite3.connect(\"mydatabase.db\")\n",
    "mycursor = mydb.cursor()\n",
    "oldaddress = 'One way 98'\n",
    "newaddress = 'Canyon 123'\n",
    "val = (newaddress, oldaddress)\n",
    "sql = \"UPDATE customers SET address = ? WHERE address = ?\"\n",
    "mycursor.execute(sql, val)\n",
    "mydb.commit()\n",
    "mydb.close()"
   ]
  },
  {
   "cell_type": "markdown",
   "metadata": {},
   "source": [
    "## Deleting Table Records"
   ]
  },
  {
   "cell_type": "code",
   "execution_count": 12,
   "metadata": {},
   "outputs": [],
   "source": [
    "mydb = sqlite3.connect(\"mydatabase.db\")\n",
    "mycursor = mydb.cursor()\n",
    "address = 'Lowstreet 4'\n",
    "val = (address,)\n",
    "sql = \"DELETE FROM customers WHERE address = ?\"\n",
    "mycursor.execute(sql, val)\n",
    "mydb.commit()\n",
    "mydb.close()"
   ]
  },
  {
   "cell_type": "markdown",
   "metadata": {},
   "source": [
    "## Deleting a Table"
   ]
  },
  {
   "cell_type": "code",
   "execution_count": 13,
   "metadata": {},
   "outputs": [],
   "source": [
    "import sqlite3\n",
    "mydb = sqlite3.connect(\"mydatabase.db\")\n",
    "mycursor = mydb.cursor()\n",
    "sql = \"DROP TABLE customers\"\n",
    "mycursor.execute(sql)\n",
    "mydb.close()"
   ]
  },
  {
   "cell_type": "code",
   "execution_count": 14,
   "metadata": {},
   "outputs": [],
   "source": [
    "mydb = sqlite3.connect(\"mydatabase.db\")\n",
    "mycursor = mydb.cursor()\n",
    "sql = \"DROP TABLE IF EXISTS customers\"\n",
    "mycursor.execute(sql)\n",
    "mydb.close()"
   ]
  },
  {
   "cell_type": "markdown",
   "metadata": {},
   "source": [
    "## Joining Tables"
   ]
  },
  {
   "cell_type": "code",
   "execution_count": 15,
   "metadata": {},
   "outputs": [],
   "source": [
    "sql = \"SELECT \\\n",
    "  users.name AS user, \\\n",
    "  products.name AS favorite \\\n",
    "  FROM users \\\n",
    "  INNER JOIN products ON users.fav = products.id\""
   ]
  },
  {
   "cell_type": "code",
   "execution_count": 16,
   "metadata": {},
   "outputs": [],
   "source": [
    "sql = \"SELECT \\\n",
    "  users.name AS user, \\\n",
    "  products.name AS favorite \\\n",
    "  FROM users \\\n",
    "  LEFT JOIN products ON users.fav = products.id\""
   ]
  },
  {
   "cell_type": "code",
   "execution_count": 17,
   "metadata": {},
   "outputs": [],
   "source": [
    "sql = \"SELECT \\\n",
    "  users.name AS user, \\\n",
    "  products.name AS favorite \\\n",
    "  FROM users \\\n",
    "  RIGHT JOIN products ON users.fav = products.id\""
   ]
  },
  {
   "cell_type": "code",
   "execution_count": null,
   "metadata": {},
   "outputs": [],
   "source": []
  }
 ],
 "metadata": {
  "kernelspec": {
   "display_name": "Python 3",
   "language": "python",
   "name": "python3"
  },
  "language_info": {
   "codemirror_mode": {
    "name": "ipython",
    "version": 3
   },
   "file_extension": ".py",
   "mimetype": "text/x-python",
   "name": "python",
   "nbconvert_exporter": "python",
   "pygments_lexer": "ipython3",
   "version": "3.7.3"
  }
 },
 "nbformat": 4,
 "nbformat_minor": 2
}

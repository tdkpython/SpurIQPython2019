{
 "cells": [
  {
   "cell_type": "markdown",
   "metadata": {},
   "source": [
    "# Setup"
   ]
  },
  {
   "cell_type": "code",
   "execution_count": 2,
   "metadata": {},
   "outputs": [],
   "source": [
    "import sqlite3\n",
    "import ipywidgets as widgets\n",
    "import random"
   ]
  },
  {
   "cell_type": "markdown",
   "metadata": {},
   "source": [
    "# SQL Functions"
   ]
  },
  {
   "cell_type": "code",
   "execution_count": 3,
   "metadata": {},
   "outputs": [],
   "source": [
    "def create():\n",
    "    mydb = sqlite3.connect(\"TriviaGame.db\")\n",
    "    mycursor = mydb.cursor()\n",
    "    mycursor.execute(\"CREATE TABLE TriviaQs (id INTEGER PRIMARY KEY, Question VARCHAR(255), Answer VARCHAR(255), Category VARCHAR(255))\")\n",
    "    mydb.close()\n",
    "\n",
    "def insert():\n",
    "    mydb = sqlite3.connect(\"TriviaGame.db\")\n",
    "    mycursor = mydb.cursor()\n",
    "    sql = \"INSERT INTO TriviaQs (Question, Answer, Category) VALUES (?, ?, ?)\"\n",
    "    val = [\n",
    "    (\"What is Earth's largest continent?\",\"asia\",\"Geography\"),\n",
    "    (\"The Taj Mahal is located in which Indian city?\",\"agra\",\"Geography\"),\n",
    "    (\"Which river is the longest in the world?\",\"the nile river\",\"Geography\"),\n",
    "    (\"In which U.S. state is Death Valley?\",\"california\",\"Geography\"),\n",
    "    (\"What is the national emblem of Canada?\",\"the maple leaf\",\"Geography\"),\n",
    "    (\"Which is the least populated U.S. state?\",\"wyoming\",\"Geography\"),\n",
    "    (\"What is the highest mountain range that lies exclusively in Europe?\",\"the alps\",\"Geography\"),\n",
    "    (\"What is the smallest state in the U.S.?\",\"rhode island\",\"Geography\"),\n",
    "    (\"Which state is Crater Lake located in?\",\"oregon\",\"Geography\"),\n",
    "    (\"What is the northernmost, westernmost, and easternmost state?\",\"alaska\",\"Geography\"),\n",
    "    (\"What is the next prime number after 7?\",\"11\",\"Math\"),\n",
    "    (\"Opposite angles of a parallelogram are _____.\",\"equal\",\"Math\"),\n",
    "    (\"Any number to the power of 0 equals ___.\",\"1\",\"Math\"),\n",
    "    (\"What is a straight line that touches a circle at a single point?\",\"tangent\",\"Math\"),\n",
    "    (\"What is the greatest common factor of 24, 40, and 60?\",\"4\",\"Math\"),\n",
    "    (\"A car travels at a speed of 65mph. How many miles will it travel in one hour?\",\"65\",\"Math\"),\n",
    "    (\"The symbol i represents the square root of ___.\",\"-1\",\"Math\"),\n",
    "    (\"What is the smallest prime number?\",\"2\",\"Math\"),\n",
    "    (\"An angle that is less than 90 degrees is called _____.\",\"acute\",\"Math\"),\n",
    "    (\"Pi is a famous ________ number.\",\"irrational\",\"Math\"),\n",
    "    (\"Which element's symbol is 'O'?\",\"oxygen\",\"Science\"),\n",
    "    (\"Who developed the special theory of relativity\",\"albert einstein\",\"Science\"),\n",
    "    (\"How many hydrogen atoms are in one molecule of water?\",\"2\",\"Science\"),\n",
    "    (\"Which planet in our solar system is closest to the sun?\",\"mercury\",\"Science\"),\n",
    "    (\"What is the most abundant gas in the earth's atmosphere?\",\"nitrogen\",\"Science\"),\n",
    "    (\"What is the chemical symbol for potassium?\",\"k\",\"Science\"),\n",
    "    (\"Diamonds are mostly composed of which element?\",\"carbon\",\"Science\"),\n",
    "    (\"What is the product of a body's mass and its linear velocity?\",\"momentum\",\"Science\"),\n",
    "    (\"Where does sound travel faster: water or air?\",\"water\",\"Science\"),\n",
    "    (\"How many hearts does an Octopus have?\",\"3\",\"Science\"),\n",
    "    ]\n",
    "    mycursor.executemany(sql, val)\n",
    "    mydb.commit()\n",
    "    mydb.close()\n",
    "\n",
    "def delete():\n",
    "    mydb = sqlite3.connect(\"TriviaGame.db\")\n",
    "    mycursor = mydb.cursor()\n",
    "    mycursor.execute(\"DROP TABLE IF EXISTS TriviaQs\")\n",
    "    mydb.close()\n",
    "    \n",
    "def getQuestions(category):\n",
    "    mydb = sqlite3.connect(\"TriviaGame.db\")\n",
    "    mycursor = mydb.cursor()\n",
    "    sql = \"SELECT * FROM TriviaQs WHERE Category = ?\"\n",
    "    val = [category,]\n",
    "    mycursor.execute(sql,val)\n",
    "    results = mycursor.fetchall()\n",
    "    return results"
   ]
  },
  {
   "cell_type": "markdown",
   "metadata": {},
   "source": [
    "# Game"
   ]
  },
  {
   "cell_type": "code",
   "execution_count": 4,
   "metadata": {},
   "outputs": [
    {
     "name": "stdout",
     "output_type": "stream",
     "text": [
      "Do you want to play Trivia with Geography, Math, or Science? geography\n",
      "\n",
      "Beginning geography Trivia game. Please type 'quit' to exit at any time.\n",
      "That's all! Thanks for playing!\n",
      "Your score for geography was: 0 out of 0\n"
     ]
    }
   ],
   "source": [
    "# Setup SQL Database\n",
    "delete()\n",
    "create()\n",
    "insert()\n",
    "\n",
    "# Game\n",
    "category = input(\"Do you want to play Trivia with Geography, Math, or Science? \")\n",
    "print(\"\")\n",
    "print(\"Beginning \" + category + \" Trivia game. Please type 'quit' to exit at any time.\")\n",
    "questions = getQuestions(category)\n",
    "numQuestions = len(questions)\n",
    "score = 0\n",
    "while True:\n",
    "    if len(questions) == 0:\n",
    "        print(\"That's all! Thanks for playing!\")\n",
    "        print(\"Your score for \" + category + \" was: \" + str(score) + \" out of \" + str(numQuestions))\n",
    "        break\n",
    "    selected = random.choice(questions)\n",
    "    question = selected[1]\n",
    "    correct_answer = selected[2]\n",
    "    questions.remove(selected)\n",
    "    user_answer = input(question + \" \")\n",
    "    if user_answer.lower() == 'quit':\n",
    "        print(\"Exiting game...\")\n",
    "        print(\"Your score for \" + category + \" was: \" + str(score) + \" out of \" + str(numQuestions))\n",
    "        break\n",
    "    elif user_answer.lower() == correct_answer:\n",
    "        print(\"Correct!\")\n",
    "        score += 1\n",
    "    else:\n",
    "        print(\"Incorrect!\")\n",
    "    print(\"Your score:\",score)\n",
    "    print(\"\")"
   ]
  },
  {
   "cell_type": "code",
   "execution_count": null,
   "metadata": {},
   "outputs": [],
   "source": []
  }
 ],
 "metadata": {
  "kernelspec": {
   "display_name": "Python 3",
   "language": "python",
   "name": "python3"
  },
  "language_info": {
   "codemirror_mode": {
    "name": "ipython",
    "version": 3
   },
   "file_extension": ".py",
   "mimetype": "text/x-python",
   "name": "python",
   "nbconvert_exporter": "python",
   "pygments_lexer": "ipython3",
   "version": "3.7.3"
  }
 },
 "nbformat": 4,
 "nbformat_minor": 2
}

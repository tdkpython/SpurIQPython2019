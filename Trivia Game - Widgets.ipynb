{
 "cells": [
  {
   "cell_type": "markdown",
   "metadata": {},
   "source": [
    "# Setup"
   ]
  },
  {
   "cell_type": "code",
   "execution_count": 3,
   "metadata": {},
   "outputs": [],
   "source": [
    "import sqlite3\n",
    "import ipywidgets as widgets\n",
    "import random\n",
    "import ast"
   ]
  },
  {
   "cell_type": "markdown",
   "metadata": {},
   "source": [
    "# SQL Functions"
   ]
  },
  {
   "cell_type": "code",
   "execution_count": 4,
   "metadata": {},
   "outputs": [],
   "source": [
    "def create():\n",
    "    mydb = sqlite3.connect(\"TriviaGame.db\")\n",
    "    mycursor = mydb.cursor()\n",
    "    mycursor.execute(\"CREATE TABLE TriviaQs (id INTEGER PRIMARY KEY, Question VARCHAR(255), Answer VARCHAR(255), Category VARCHAR(255))\")\n",
    "    mydb.close()\n",
    "\n",
    "def insert():\n",
    "    mydb = sqlite3.connect(\"TriviaGame.db\")\n",
    "    mycursor = mydb.cursor()\n",
    "    sql = \"INSERT INTO TriviaQs (Question, Answer, Category) VALUES (?, ?, ?)\"\n",
    "    val = [\n",
    "    (\"What is Earth's largest continent?\",\"['asia']\",\"Geography\"),\n",
    "    (\"The Taj Mahal is located in which Indian city?\",\"['agra']\",\"Geography\"),\n",
    "    (\"Which river is the longest in the world?\",\"['the nile river','the nile','nile','nile river']\",\"Geography\"),\n",
    "    (\"In which U.S. state is Death Valley?\",\"['california']\",\"Geography\"),\n",
    "    (\"What is the national emblem of Canada?\",\"['the maple leaf','maple leaf']\",\"Geography\"),\n",
    "    (\"Which is the least populated U.S. state?\",\"['wyoming']\",\"Geography\"),\n",
    "    (\"What is the highest mountain range that lies exclusively in Europe?\",\"['the alps','alps']\",\"Geography\"),\n",
    "    (\"What is the smallest state in the U.S.?\",\"['rhode island']\",\"Geography\"),\n",
    "    (\"Which state is Crater Lake located in?\",\"['oregon']\",\"Geography\"),\n",
    "    (\"What is the northernmost, westernmost, and easternmost state?\",\"['alaska']\",\"Geography\"),\n",
    "    (\"What is the next prime number after 7?\",\"['11','eleven']\",\"Math\"),\n",
    "    (\"Opposite angles of a parallelogram are _____.\",\"['equal','the same']\",\"Math\"),\n",
    "    (\"Any number to the power of 0 equals ___.\",\"['1','one']\",\"Math\"),\n",
    "    (\"What is a straight line that touches a circle at a single point?\",\"['tangent']\",\"Math\"),\n",
    "    (\"What is the greatest common factor of 24, 40, and 60?\",\"['4','four']\",\"Math\"),\n",
    "    (\"A car travels at a speed of 65mph. How many miles will it travel in one hour?\",\"['65', 'sixtyfive','sixty-five','sixty five']\",\"Math\"),\n",
    "    (\"The symbol i represents the square root of ___.\",\"['-1','negative one']\",\"Math\"),\n",
    "    (\"What is the smallest prime number?\",\"['2','two']\",\"Math\"),\n",
    "    (\"An angle that is less than 90 degrees is called _____.\",\"['acute']\",\"Math\"),\n",
    "    (\"Pi is a famous ________ number.\",\"['irrational']\",\"Math\"),\n",
    "    (\"Which element's symbol is 'O'?\",\"['oxygen']\",\"Science\"),\n",
    "    (\"Who developed the special theory of relativity\",\"['albert einstein','einstein']\",\"Science\"),\n",
    "    (\"How many hydrogen atoms are in one molecule of water?\",\"['2','two']\",\"Science\"),\n",
    "    (\"Which planet in our solar system is closest to the sun?\",\"['mercury']\",\"Science\"),\n",
    "    (\"What is the most abundant gas in the earth's atmosphere?\",\"['nitrogen']\",\"Science\"),\n",
    "    (\"What is the chemical symbol for potassium?\",\"['k']\",\"Science\"),\n",
    "    (\"Diamonds are mostly composed of which element?\",\"['carbon']\",\"Science\"),\n",
    "    (\"What is the product of a body's mass and its linear velocity?\",\"['momentum']\",\"Science\"),\n",
    "    (\"Where does sound travel faster: water or air?\",\"['water']\",\"Science\"),\n",
    "    (\"How many hearts does an Octopus have?\",\"['3','three']\",\"Science\"),\n",
    "    ]\n",
    "    mycursor.executemany(sql, val)\n",
    "    mydb.commit()\n",
    "    mydb.close()\n",
    "\n",
    "def delete():\n",
    "    mydb = sqlite3.connect(\"TriviaGame.db\")\n",
    "    mycursor = mydb.cursor()\n",
    "    mycursor.execute(\"DROP TABLE IF EXISTS TriviaQs\")\n",
    "    mydb.close()\n",
    "    \n",
    "def getQuestions(category):\n",
    "    mydb = sqlite3.connect(\"TriviaGame.db\")\n",
    "    mycursor = mydb.cursor()\n",
    "    sql = \"SELECT * FROM TriviaQs WHERE Category = ?\"\n",
    "    val = [category,]\n",
    "    mycursor.execute(sql,val)\n",
    "    results = mycursor.fetchall()\n",
    "    return results\n",
    "    \n",
    "def deleteFromTable(id):\n",
    "    mydb = sqlite3.connect(\"TriviaGame.db\")\n",
    "    mycursor = mydb.cursor()\n",
    "    sql = \"DELETE FROM TriviaQs WHERE id = ?\"\n",
    "    val = (id,)\n",
    "    mycursor.execute(sql, val)\n",
    "    mydb.commit()\n",
    "    mydb.close()"
   ]
  },
  {
   "cell_type": "markdown",
   "metadata": {},
   "source": [
    "# Game Functions"
   ]
  },
  {
   "cell_type": "code",
   "execution_count": 5,
   "metadata": {},
   "outputs": [
    {
     "data": {
      "application/vnd.jupyter.widget-view+json": {
       "model_id": "",
       "version_major": 2,
       "version_minor": 0
      },
      "text/plain": [
       "ToggleButtons(description='Category:', options=('Geography', 'Math', 'Science'), value='Geography')"
      ]
     },
     "metadata": {},
     "output_type": "display_data"
    },
    {
     "data": {
      "application/vnd.jupyter.widget-view+json": {
       "model_id": "",
       "version_major": 2,
       "version_minor": 0
      },
      "text/plain": [
       "Button(description='Go!', style=ButtonStyle())"
      ]
     },
     "metadata": {},
     "output_type": "display_data"
    },
    {
     "data": {
      "application/vnd.jupyter.widget-view+json": {
       "model_id": "e1fde38a36894433b2beef10c619d4c9",
       "version_major": 2,
       "version_minor": 0
      },
      "text/plain": [
       "Label(value='Question: What is the highest mountain range that lies exclusively in Europe?')"
      ]
     },
     "metadata": {},
     "output_type": "display_data"
    },
    {
     "data": {
      "application/vnd.jupyter.widget-view+json": {
       "model_id": "676f237c8dfd43f0b3c32c434fe50c15",
       "version_major": 2,
       "version_minor": 0
      },
      "text/plain": [
       "Text(value='', description='Answer:', placeholder='Answer here...')"
      ]
     },
     "metadata": {},
     "output_type": "display_data"
    },
    {
     "data": {
      "application/vnd.jupyter.widget-view+json": {
       "model_id": "a0a098f0cef04121bdd5f2f8efa0622e",
       "version_major": 2,
       "version_minor": 0
      },
      "text/plain": [
       "HBox(children=(Button(description='Submit answer!', style=ButtonStyle()), Button(description='Next question!',…"
      ]
     },
     "metadata": {},
     "output_type": "display_data"
    },
    {
     "data": {
      "application/vnd.jupyter.widget-view+json": {
       "model_id": "4d49876cd0384d0887adbc5d01983c52",
       "version_major": 2,
       "version_minor": 0
      },
      "text/plain": [
       "Label(value='')"
      ]
     },
     "metadata": {},
     "output_type": "display_data"
    }
   ],
   "source": [
    "# Setup SQL Database\n",
    "delete()\n",
    "create()\n",
    "insert()\n",
    "\n",
    "def askQuestion():\n",
    "    category = categoryButton.value\n",
    "    results = getQuestions(category)\n",
    "    if len(results) == 0:\n",
    "        buttonBox.close()\n",
    "        question.close()\n",
    "        user_answer.close()\n",
    "        correct_answer.close()\n",
    "        result.close()\n",
    "        display(end_game)\n",
    "        return\n",
    "    selectedQuestion = random.choice(results)\n",
    "    i = selectedQuestion[0]\n",
    "    q = selectedQuestion[1]\n",
    "    a = selectedQuestion[2]\n",
    "    deleteFromTable(i)\n",
    "    question.value = 'Question: ' + q\n",
    "    correct_answer.value = a\n",
    "\n",
    "def beginGame(b):\n",
    "    categoryButton.close()\n",
    "    goButton.close()\n",
    "    askQuestion()\n",
    "    display(question)\n",
    "    display(user_answer)\n",
    "    display(buttonBox)\n",
    "    display(result)\n",
    "    nextButton.disabled = True\n",
    "    \n",
    "def submitAnswer(b):\n",
    "    submitButton.disabled = True\n",
    "    if user_answer.value == \"\" or user_answer.value == \" \":\n",
    "        result.value = \"Incorrect!\"\n",
    "    elif user_answer.value.lower() in ast.literal_eval(correct_answer.value):\n",
    "        result.value = \"Correct!\"\n",
    "    else:\n",
    "        result.value = \"Incorrect!\"\n",
    "    nextButton.disabled = False\n",
    "\n",
    "def nextQuestion(b):\n",
    "    nextButton.disabled = True\n",
    "    result.value = \"\"\n",
    "    user_answer.value = \"\"\n",
    "    askQuestion()\n",
    "    submitButton.disabled = False\n",
    "\n",
    "categories = ['Geography','Math','Science']\n",
    "\n",
    "# Add Category, Go, Submit, and Next Buttons\n",
    "categoryButton = widgets.ToggleButtons(options=categories, value=categories[0], description='Category:')\n",
    "goButton = widgets.Button(description='Go!')\n",
    "submitButton = widgets.Button(description='Submit answer!')\n",
    "nextButton = widgets.Button(description='Next question!')\n",
    "buttonBox = widgets.HBox([submitButton,nextButton])\n",
    "display(categoryButton)\n",
    "display(goButton)\n",
    "\n",
    "# Question, User Answer, Correct Answer, Results, and End Game Widgets\n",
    "question = widgets.Label()\n",
    "user_answer = widgets.Text(placeholder='Answer here...',description='Answer:')\n",
    "correct_answer = widgets.Text()\n",
    "result = widgets.Label()\n",
    "end_game = widgets.Label(\"That's all! Thanks for playing!\")\n",
    "\n",
    "# On_Click Methods\n",
    "goButton.on_click(beginGame)\n",
    "submitButton.on_click(submitAnswer)\n",
    "nextButton.on_click(nextQuestion)"
   ]
  },
  {
   "cell_type": "code",
   "execution_count": null,
   "metadata": {},
   "outputs": [],
   "source": []
  },
  {
   "cell_type": "code",
   "execution_count": null,
   "metadata": {},
   "outputs": [],
   "source": []
  },
  {
   "cell_type": "code",
   "execution_count": null,
   "metadata": {},
   "outputs": [],
   "source": []
  },
  {
   "cell_type": "code",
   "execution_count": null,
   "metadata": {},
   "outputs": [],
   "source": []
  }
 ],
 "metadata": {
  "kernelspec": {
   "display_name": "Python 3",
   "language": "python",
   "name": "python3"
  },
  "language_info": {
   "codemirror_mode": {
    "name": "ipython",
    "version": 3
   },
   "file_extension": ".py",
   "mimetype": "text/x-python",
   "name": "python",
   "nbconvert_exporter": "python",
   "pygments_lexer": "ipython3",
   "version": "3.7.3"
  }
 },
 "nbformat": 4,
 "nbformat_minor": 2
}

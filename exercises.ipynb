{
 "cells": [
  {
   "cell_type": "markdown",
   "metadata": {},
   "source": [
    "# These are my Python exercises"
   ]
  },
  {
   "cell_type": "code",
   "execution_count": 214,
   "metadata": {},
   "outputs": [
    {
     "name": "stdout",
     "output_type": "stream",
     "text": [
      "80\n"
     ]
    }
   ],
   "source": [
    "x=20 * 4\n",
    "print (x)"
   ]
  },
  {
   "cell_type": "code",
   "execution_count": 215,
   "metadata": {},
   "outputs": [
    {
     "name": "stdout",
     "output_type": "stream",
     "text": [
      "80\n"
     ]
    }
   ],
   "source": [
    "x=20\n",
    "y=4\n",
    "print (x * y)"
   ]
  },
  {
   "cell_type": "code",
   "execution_count": 216,
   "metadata": {},
   "outputs": [
    {
     "name": "stdout",
     "output_type": "stream",
     "text": [
      "80\n"
     ]
    }
   ],
   "source": [
    "print (20 * 4)"
   ]
  },
  {
   "cell_type": "code",
   "execution_count": 217,
   "metadata": {},
   "outputs": [
    {
     "name": "stdout",
     "output_type": "stream",
     "text": [
      "80\n"
     ]
    }
   ],
   "source": [
    "x=20\n",
    "x*=4\n",
    "print (x)"
   ]
  },
  {
   "cell_type": "code",
   "execution_count": 218,
   "metadata": {},
   "outputs": [
    {
     "name": "stdout",
     "output_type": "stream",
     "text": [
      "I've mastered decision making\n"
     ]
    }
   ],
   "source": [
    "a=100\n",
    "b=50\n",
    "if a>b:\n",
    "    print (\"I've mastered decision making\")"
   ]
  },
  {
   "cell_type": "code",
   "execution_count": 219,
   "metadata": {},
   "outputs": [],
   "source": [
    "a=50\n",
    "b=100\n",
    "c=200\n",
    "if b>a and b>c:\n",
    "    print (\"I'm right\")"
   ]
  },
  {
   "cell_type": "code",
   "execution_count": 220,
   "metadata": {},
   "outputs": [
    {
     "name": "stdout",
     "output_type": "stream",
     "text": [
      "['Pad Thai', 'Medium Well Steak', 'mushroom']\n",
      "Pad Thai\n",
      "Medium Well Steak\n",
      "mushroom\n"
     ]
    }
   ],
   "source": [
    "food_good =[\"Pad Thai\", \"Medium Well Steak\",\"mushroom\"]\n",
    "print (food_good)\n",
    "print (food_good[0])\n",
    "print (food_good[1])\n",
    "print (food_good[2])"
   ]
  },
  {
   "cell_type": "code",
   "execution_count": 221,
   "metadata": {},
   "outputs": [
    {
     "name": "stdout",
     "output_type": "stream",
     "text": [
      "('cucumber', 'carrot', 'celery')\n",
      "cucumber\n",
      "carrot\n",
      "celery\n"
     ]
    }
   ],
   "source": [
    "footuple = (\"cucumber\",\"carrot\",\"celery\")\n",
    "print (footuple)\n",
    "print (footuple[0])\n",
    "print (footuple[1])\n",
    "print (footuple[2])"
   ]
  },
  {
   "cell_type": "code",
   "execution_count": 222,
   "metadata": {},
   "outputs": [
    {
     "name": "stdout",
     "output_type": "stream",
     "text": [
      "{'chocolate', 'ice cream', 'M&M'}\n",
      "chocolate\n",
      "ice cream\n",
      "M&M\n"
     ]
    }
   ],
   "source": [
    "sfood = {\"ice cream\",\"chocolate\",\"M&M\"}\n",
    "print (sfood)\n",
    "print (\"chocolate\")\n",
    "print (\"ice cream\")\n",
    "print (\"M&M\")"
   ]
  },
  {
   "cell_type": "code",
   "execution_count": 223,
   "metadata": {},
   "outputs": [
    {
     "name": "stdout",
     "output_type": "stream",
     "text": [
      "{'pad thai': 'list', 'cucumber': 'tuple', 'ice cream': 'set'}\n",
      "list\n",
      "tuple\n",
      "set\n"
     ]
    }
   ],
   "source": [
    "foodict = {\"pad thai\":\"list\",\n",
    "           \"cucumber\":\"tuple\",\n",
    "           \"ice cream\":\"set\"}\n",
    "print (foodict)\n",
    "x = foodict [\"pad thai\"]\n",
    "c = foodict [\"cucumber\"]\n",
    "z = foodict [\"ice cream\"]\n",
    "print (x)\n",
    "print (c)\n",
    "print (z)"
   ]
  },
  {
   "cell_type": "code",
   "execution_count": 266,
   "metadata": {},
   "outputs": [
    {
     "name": "stdout",
     "output_type": "stream",
     "text": [
      "124750\n"
     ]
    }
   ],
   "source": [
    "sum = 0\n",
    "for i in range(500):\n",
    "    sum += i\n",
    "print(sum)"
   ]
  },
  {
   "cell_type": "code",
   "execution_count": 9,
   "metadata": {},
   "outputs": [],
   "source": [
    "import sqlite3\n",
    "def createTable():\n",
    "    mydb = sqlite3.connect(\"mydatabase.db\")\n",
    "    mycursor = mydb.cursor()\n",
    "    mycursor.execute(\"CREATE TABLE FavFood (id INTEGER PRIMARY KEY, food VARCHAR(255), type VARCHAR(255))\")\n",
    "    mydb.close()"
   ]
  },
  {
   "cell_type": "code",
   "execution_count": 10,
   "metadata": {},
   "outputs": [],
   "source": [
    "def FillTable():\n",
    "    mydb = sqlite3.connect(\"mydatabase.db\")\n",
    "    mycursor = mydb.cursor()\n",
    "    sql = \"INSERT INTO FavFood (food, type) VALUES (?, ?)\"\n",
    "    val = [\n",
    "    ('pad thai', 'thai food'),\n",
    "    ('cucumber', 'vegetable'),\n",
    "    ('frosted flakes', 'breakfast'),\n",
    "    ('pear', 'friut'),\n",
    "    ('ice cream', 'desert'),\n",
    "    ]\n",
    "    mycursor.executemany(sql, val)\n",
    "    print(mycursor.rowcount)        # check how many rows entered\n",
    "    mydb.commit()\n",
    "    mydb.close()"
   ]
  },
  {
   "cell_type": "code",
   "execution_count": 241,
   "metadata": {},
   "outputs": [],
   "source": [
    "def ViewTable():\n",
    "    mydb = sqlite3.connect(\"mydatabase.db\")\n",
    "    mycursor = mydb.cursor()\n",
    "    sql = \"SELECT * FROM FavFood ORDER BY food\"\n",
    "    mycursor.execute(sql)\n",
    "    myresult = mycursor.fetchall()\n",
    "    for x in myresult:\n",
    "        print(x)\n",
    "    mydb.close()"
   ]
  },
  {
   "cell_type": "code",
   "execution_count": 8,
   "metadata": {},
   "outputs": [],
   "source": [
    "def DeleteTable():\n",
    "    mydb = sqlite3.connect(\"mydatabase.db\")\n",
    "    mycursor = mydb.cursor()\n",
    "    sql = \"DROP TABLE IF EXISTS FavFood\"\n",
    "    mycursor.execute(sql)\n",
    "    mydb.close()"
   ]
  },
  {
   "cell_type": "code",
   "execution_count": 243,
   "metadata": {},
   "outputs": [
    {
     "name": "stdout",
     "output_type": "stream",
     "text": [
      "5\n",
      "(2, 'cucumber', 'vegetable')\n",
      "(3, 'frosted flakes', 'breakfast')\n",
      "(5, 'ice cream', 'desert')\n",
      "(1, 'pad thai', 'thai food')\n",
      "(4, 'pear', 'friut')\n"
     ]
    }
   ],
   "source": [
    "DeleteTable()\n",
    "createTable()\n",
    "FillTable()\n",
    "ViewTable()"
   ]
  },
  {
   "cell_type": "code",
   "execution_count": null,
   "metadata": {},
   "outputs": [],
   "source": []
  }
 ],
 "metadata": {
  "kernelspec": {
   "display_name": "Python 3",
   "language": "python",
   "name": "python3"
  },
  "language_info": {
   "codemirror_mode": {
    "name": "ipython",
    "version": 3
   },
   "file_extension": ".py",
   "mimetype": "text/x-python",
   "name": "python",
   "nbconvert_exporter": "python",
   "pygments_lexer": "ipython3",
   "version": "3.7.3"
  }
 },
 "nbformat": 4,
 "nbformat_minor": 2
}

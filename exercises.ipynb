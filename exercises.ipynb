{
 "cells": [
  {
   "cell_type": "markdown",
   "metadata": {},
   "source": [
    "# These are my Python exercises"
   ]
  },
  {
   "cell_type": "code",
   "execution_count": 214,
   "metadata": {},
   "outputs": [
    {
     "name": "stdout",
     "output_type": "stream",
     "text": [
      "80\n"
     ]
    }
   ],
   "source": [
    "x=20 * 4\n",
    "print (x)"
   ]
  },
  {
   "cell_type": "code",
   "execution_count": 215,
   "metadata": {},
   "outputs": [
    {
     "name": "stdout",
     "output_type": "stream",
     "text": [
      "80\n"
     ]
    }
   ],
   "source": [
    "x=20\n",
    "y=4\n",
    "print (x * y)"
   ]
  },
  {
   "cell_type": "code",
   "execution_count": 216,
   "metadata": {},
   "outputs": [
    {
     "name": "stdout",
     "output_type": "stream",
     "text": [
      "80\n"
     ]
    }
   ],
   "source": [
    "print (20 * 4)"
   ]
  },
  {
   "cell_type": "code",
   "execution_count": 217,
   "metadata": {},
   "outputs": [
    {
     "name": "stdout",
     "output_type": "stream",
     "text": [
      "80\n"
     ]
    }
   ],
   "source": [
    "x=20\n",
    "x*=4\n",
    "print (x)"
   ]
  },
  {
   "cell_type": "code",
   "execution_count": 218,
   "metadata": {},
   "outputs": [
    {
     "name": "stdout",
     "output_type": "stream",
     "text": [
      "I've mastered decision making\n"
     ]
    }
   ],
   "source": [
    "a=100\n",
    "b=50\n",
    "if a>b:\n",
    "    print (\"I've mastered decision making\")"
   ]
  },
  {
   "cell_type": "code",
   "execution_count": 219,
   "metadata": {},
   "outputs": [],
   "source": [
    "a=50\n",
    "b=100\n",
    "c=200\n",
    "if b>a and b>c:\n",
    "    print (\"I'm right\")"
   ]
  },
  {
   "cell_type": "code",
   "execution_count": 220,
   "metadata": {},
   "outputs": [
    {
     "name": "stdout",
     "output_type": "stream",
     "text": [
      "['Pad Thai', 'Medium Well Steak', 'mushroom']\n",
      "Pad Thai\n",
      "Medium Well Steak\n",
      "mushroom\n"
     ]
    }
   ],
   "source": [
    "food_good =[\"Pad Thai\", \"Medium Well Steak\",\"mushroom\"]\n",
    "print (food_good)\n",
    "print (food_good[0])\n",
    "print (food_good[1])\n",
    "print (food_good[2])"
   ]
  },
  {
   "cell_type": "code",
   "execution_count": 221,
   "metadata": {},
   "outputs": [
    {
     "name": "stdout",
     "output_type": "stream",
     "text": [
      "('cucumber', 'carrot', 'celery')\n",
      "cucumber\n",
      "carrot\n",
      "celery\n"
     ]
    }
   ],
   "source": [
    "footuple = (\"cucumber\",\"carrot\",\"celery\")\n",
    "print (footuple)\n",
    "print (footuple[0])\n",
    "print (footuple[1])\n",
    "print (footuple[2])"
   ]
  },
  {
   "cell_type": "code",
   "execution_count": 222,
   "metadata": {},
   "outputs": [
    {
     "name": "stdout",
     "output_type": "stream",
     "text": [
      "{'chocolate', 'ice cream', 'M&M'}\n",
      "chocolate\n",
      "ice cream\n",
      "M&M\n"
     ]
    }
   ],
   "source": [
    "sfood = {\"ice cream\",\"chocolate\",\"M&M\"}\n",
    "print (sfood)\n",
    "print (\"chocolate\")\n",
    "print (\"ice cream\")\n",
    "print (\"M&M\")"
   ]
  },
  {
   "cell_type": "code",
   "execution_count": 223,
   "metadata": {},
   "outputs": [
    {
     "name": "stdout",
     "output_type": "stream",
     "text": [
      "{'pad thai': 'list', 'cucumber': 'tuple', 'ice cream': 'set'}\n",
      "list\n",
      "tuple\n",
      "set\n"
     ]
    }
   ],
   "source": [
    "foodict = {\"pad thai\":\"list\",\n",
    "           \"cucumber\":\"tuple\",\n",
    "           \"ice cream\":\"set\"}\n",
    "print (foodict)\n",
    "x = foodict [\"pad thai\"]\n",
    "c = foodict [\"cucumber\"]\n",
    "z = foodict [\"ice cream\"]\n",
    "print (x)\n",
    "print (c)\n",
    "print (z)"
   ]
  },
  {
   "cell_type": "code",
   "execution_count": 266,
   "metadata": {},
   "outputs": [
    {
     "name": "stdout",
     "output_type": "stream",
     "text": [
      "124750\n"
     ]
    }
   ],
   "source": [
    "sum = 0\n",
    "for i in range(500):\n",
    "    sum += i\n",
    "print(sum)"
   ]
  },
  {
   "cell_type": "code",
   "execution_count": 271,
   "metadata": {
    "scrolled": true
   },
   "outputs": [
    {
     "name": "stdout",
     "output_type": "stream",
     "text": [
      "-2440273651982220137402477570846093852507148685606385684384827176771690746307763995210992895004406563726027232954296407168326757444156354400961570410318658570955815143878661207545921718172540858349095764849825452688611340346541538922125604620905288437757578931509554299726988735562075288548067654730794942772955756990876979191075075980846482122542653968655491431092619954405562029122162376747419062032712648865974059127793257823317949539144175853857742563560140530349015536821439248780788645072845210469891700259837143002497413923136283250718113386847626017712498493783128253551308963773013187695903550721788011490477880671596952727889810626124647498132890097649330151893471724149275850368400918739385962044527943905194381890435646663513869163017104665641525640046805253815796684903424012415429281958912232255258291902474459826680339104727701885771184037454867590346029172715141656711560317470865537777360240799764769404302935210890815327071968348860960257876627793763278974939317635009013852730676350110956257280000000000000000000000000000000000000000000000000000000000000000000000000000000000000000000000000000000000000000000000000\n"
     ]
    }
   ],
   "source": [
    "sum = 1\n",
    "i =-1\n",
    "while i>-500:\n",
    "    sum *= i\n",
    "    i -= 1\n",
    "print(sum)"
   ]
  },
  {
   "cell_type": "code",
   "execution_count": 277,
   "metadata": {},
   "outputs": [
    {
     "name": "stdout",
     "output_type": "stream",
     "text": [
      "55\n"
     ]
    }
   ],
   "source": [
    "def sumlist(x):\n",
    "    sum = 0\n",
    "    for i in range(x):\n",
    "        sum += i\n",
    "    return sum\n",
    "print(sumlist(11))"
   ]
  },
  {
   "cell_type": "code",
   "execution_count": 282,
   "metadata": {},
   "outputs": [
    {
     "ename": "NameError",
     "evalue": "name 'array' is not defined",
     "output_type": "error",
     "traceback": [
      "\u001b[1;31m---------------------------------------------------------------------------\u001b[0m",
      "\u001b[1;31mNameError\u001b[0m                                 Traceback (most recent call last)",
      "\u001b[1;32m<ipython-input-282-ec03cc06cc11>\u001b[0m in \u001b[0;36m<module>\u001b[1;34m\u001b[0m\n\u001b[1;32m----> 1\u001b[1;33m \u001b[0mx\u001b[0m \u001b[1;33m=\u001b[0m \u001b[0marray\u001b[0m\u001b[1;33m(\u001b[0m\u001b[1;33m[\u001b[0m\u001b[1;36m3\u001b[0m\u001b[1;33m,\u001b[0m \u001b[1;36m6\u001b[0m\u001b[1;33m,\u001b[0m \u001b[1;36m9\u001b[0m\u001b[1;33m,\u001b[0m \u001b[1;36m12\u001b[0m\u001b[1;33m,\u001b[0m\u001b[1;33m]\u001b[0m\u001b[1;33m)\u001b[0m\u001b[1;33m\u001b[0m\u001b[1;33m\u001b[0m\u001b[0m\n\u001b[0m\u001b[0;32m      2\u001b[0m \u001b[0mprint\u001b[0m\u001b[1;33m(\u001b[0m\u001b[0mx\u001b[0m\u001b[1;33m+\u001b[0m\u001b[1;36m3\u001b[0m\u001b[1;33m)\u001b[0m\u001b[1;33m\u001b[0m\u001b[1;33m\u001b[0m\u001b[0m\n",
      "\u001b[1;31mNameError\u001b[0m: name 'array' is not defined"
     ]
    }
   ],
   "source": []
  }
 ],
 "metadata": {
  "kernelspec": {
   "display_name": "Python 3",
   "language": "python",
   "name": "python3"
  }
 },
 "nbformat": 4,
 "nbformat_minor": 2
}

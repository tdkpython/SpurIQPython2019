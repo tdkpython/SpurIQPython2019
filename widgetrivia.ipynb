{
 "cells": [
  {
   "cell_type": "markdown",
   "metadata": {},
   "source": [
    "# SQL &setup"
   ]
  },
  {
   "cell_type": "code",
   "execution_count": 33,
   "metadata": {},
   "outputs": [],
   "source": [
    "import random\n",
    "import sqlite3\n",
    "import ipywidgets as widgets\n",
    "import ast"
   ]
  },
  {
   "cell_type": "code",
   "execution_count": 93,
   "metadata": {},
   "outputs": [],
   "source": [
    "def createTable():\n",
    "    mydb = sqlite3.connect(\"mydatabase.db\")\n",
    "    mycursor = mydb.cursor()\n",
    "    mycursor.execute(\"CREATE TABLE triviaQs (id INTEGER PRIMARY KEY, question VARCHAR(255), answer VARCHAR(255), category VARCHAR(255))\")\n",
    "    mydb.close()\n",
    "def DeleteTable():\n",
    "    mydb = sqlite3.connect(\"mydatabase.db\")\n",
    "    mycursor = mydb.cursor()\n",
    "    sql = \"DROP TABLE IF EXISTS triviaQs\"\n",
    "    mycursor.execute(sql)\n",
    "    mydb.close()\n",
    "def FillTable():\n",
    "    mydb = sqlite3.connect(\"mydatabase.db\")\n",
    "    mycursor = mydb.cursor()\n",
    "    sql = \"INSERT INTO triviaQs (question, answer, category) VALUES (?, ?, ?)\"\n",
    "    val = [\n",
    "    ('The highest place on earth is located in witch country?', 'nepal, in nepal', 'asia'),\n",
    "    ('The Taj Mahal is located in which Indian city?', 'agra, in agra', 'asia'),\n",
    "    ('what is the name of the lowest place in the world?', 'death sea, the death sea', 'asia'),\n",
    "    ('What mountain range runs along the northern border of India?', 'himalayan mountains, the himalayas', 'asia'),\n",
    "    ('What is the capital of Afghanistan?', 'kabul', 'asia'), \n",
    "    ('Which artificial waterway connects the Pacific Ocean to the Atlantic Ocean?','panama kanal, the panama kanal', 'water'), \n",
    "    ('Which is the longest river in the world?', 'the nile river', 'water'), \n",
    "    ('What is the largest lake in Africa?', 'lake victoria', 'water'), \n",
    "    ('The river Liffey flows through the center of which European city?', 'dublin', 'water'), \n",
    "    ('Apart from the five oceans, which is the largest sea in the world', 'the philippines sea', 'water'),\n",
    "    ('what is the largest country in the world?', 'russia', 'lands'), \n",
    "    ('what is the biggest containment on earth?', 'asia', 'lands'), \n",
    "    ('how many countries are there in Africa?', 'fifty four', 'lands'), \n",
    "    ('what containment without Antartica has the least countries', 'south america', 'lands'), \n",
    "    ('how many containments are there', 'seven', 'lands'),\n",
    "    (' Beverly Hills is a suburb of which U.S. city?', 'los angeles', 'america'), \n",
    "    ('In which U.S. state is Death Valley?', 'california, ca', 'america'),\n",
    "    (' What is the highest mountain in North America?', 'denali', 'america'), \n",
    "    ('What is the national emblem of Canada?', 'the maple leaf', 'america'),\n",
    "    ('Which is the least populated U.S. state?', 'wyoming', 'america'),\n",
    "    ]\n",
    "    mycursor.executemany(sql, val)\n",
    "    mydb.commit()\n",
    "    mydb.close()\n",
    "def getQuestions(category):\n",
    "    mydb = sqlite3.connect(\"mydatabase.db\")\n",
    "    mycursor = mydb.cursor()\n",
    "    sql = \"SELECT * FROM TriviaQs WHERE Category = ?\"\n",
    "    val = (category,)\n",
    "    mycursor.execute(sql,val)\n",
    "    results = mycursor.fetchall()\n",
    "    return results\n",
    "\n",
    "def deleteFromTable(id):\n",
    "    mydb = sqlite3.connect(\"mydatabase.db\")\n",
    "    mycursor = mydb.cursor()\n",
    "    sql = \"DELETE FROM TriviaQs WHERE id = ?\"\n",
    "    val = (id,)\n",
    "    mycursor.execute(sql, val)\n",
    "    mydb.commit()\n",
    "    mydb.close()"
   ]
  },
  {
   "cell_type": "code",
   "execution_count": 107,
   "metadata": {
    "scrolled": false
   },
   "outputs": [
    {
     "data": {
      "application/vnd.jupyter.widget-view+json": {
       "model_id": "",
       "version_major": 2,
       "version_minor": 0
      },
      "text/plain": [
       "ToggleButtons(description='Category:', options=('asia', 'water', 'lands', 'america'), value='asia')"
      ]
     },
     "metadata": {},
     "output_type": "display_data"
    },
    {
     "data": {
      "application/vnd.jupyter.widget-view+json": {
       "model_id": "",
       "version_major": 2,
       "version_minor": 0
      },
      "text/plain": [
       "Button(description='Go!', style=ButtonStyle())"
      ]
     },
     "metadata": {},
     "output_type": "display_data"
    },
    {
     "data": {
      "application/vnd.jupyter.widget-view+json": {
       "model_id": "",
       "version_major": 2,
       "version_minor": 0
      },
      "text/plain": [
       "Label(value='Question: The river Liffey flows through the center of which European city?')"
      ]
     },
     "metadata": {},
     "output_type": "display_data"
    },
    {
     "data": {
      "application/vnd.jupyter.widget-view+json": {
       "model_id": "",
       "version_major": 2,
       "version_minor": 0
      },
      "text/plain": [
       "Text(value='', description='Answer:', placeholder='Answer here...')"
      ]
     },
     "metadata": {},
     "output_type": "display_data"
    },
    {
     "data": {
      "application/vnd.jupyter.widget-view+json": {
       "model_id": "",
       "version_major": 2,
       "version_minor": 0
      },
      "text/plain": [
       "HBox(children=(Button(description='Submit answer!', style=ButtonStyle()), Button(description='Next question!',…"
      ]
     },
     "metadata": {},
     "output_type": "display_data"
    },
    {
     "data": {
      "application/vnd.jupyter.widget-view+json": {
       "model_id": "",
       "version_major": 2,
       "version_minor": 0
      },
      "text/plain": [
       "Label(value='')"
      ]
     },
     "metadata": {},
     "output_type": "display_data"
    },
    {
     "data": {
      "application/vnd.jupyter.widget-view+json": {
       "model_id": "52a0dede62814ae6a883b21e78daf3e4",
       "version_major": 2,
       "version_minor": 0
      },
      "text/plain": [
       "Label(value=\"That's all! Thanks for playing! Your score was: 4\")"
      ]
     },
     "metadata": {},
     "output_type": "display_data"
    }
   ],
   "source": [
    "DeleteTable()\n",
    "createTable()\n",
    "FillTable()\n",
    "score = 0\n",
    "def askQuestion():\n",
    "    global score\n",
    "    category = categoryButton.value\n",
    "    results = getQuestions(category)\n",
    "    if len(results) == 0:\n",
    "        buttonBox.close()\n",
    "        question.close()\n",
    "        user_answer.close()\n",
    "        correct_answer.close()\n",
    "        result.close()\n",
    "        end_game.value = \"That's all! Thanks for playing! Your score was: \" + str(score)\n",
    "        display(end_game)\n",
    "        return\n",
    "    selectedQuestion = random.choice(results)\n",
    "    i = selectedQuestion[0]\n",
    "    q = selectedQuestion[1]\n",
    "    a = selectedQuestion[2]\n",
    "    deleteFromTable(i)\n",
    "    question.value = 'Question: ' + q\n",
    "    correct_answer.value = a\n",
    "\n",
    "def beginGame(b):\n",
    "    categoryButton.close()\n",
    "    goButton.close()\n",
    "    askQuestion()\n",
    "    display(question)\n",
    "    display(user_answer)\n",
    "    display(buttonBox)\n",
    "    display(result)\n",
    "    nextButton.disabled = True\n",
    "    \n",
    "def submitAnswer(b):\n",
    "    global score\n",
    "    submitButton.disabled = True\n",
    "    if user_answer.value == \"\" or user_answer.value == \" \":\n",
    "        result.value = \"Incorrect! Current score: \" + str(score)\n",
    "    elif user_answer.value.lower() in correct_answer.value.split(\", \"):\n",
    "        score += 1\n",
    "        result.value = \"Correct! Current score: \" + str(score)\n",
    "    else:\n",
    "        result.value = \"Incorrect! Current score: \" + str(score)\n",
    "    nextButton.disabled = False\n",
    "\n",
    "def nextQuestion(b):\n",
    "    nextButton.disabled = True\n",
    "    result.value = \"\"\n",
    "    user_answer.value = \"\"\n",
    "    askQuestion()\n",
    "    submitButton.disabled = False\n",
    "\n",
    "categories = ['asia', 'water', 'lands', 'america']\n",
    "\n",
    "# Add Category, Go, Submit, and Next Buttons\n",
    "categoryButton = widgets.ToggleButtons(options=categories, value=categories[0], description='Category:')\n",
    "goButton = widgets.Button(description='Go!')\n",
    "submitButton = widgets.Button(description='Submit answer!')\n",
    "nextButton = widgets.Button(description='Next question!')\n",
    "buttonBox = widgets.HBox([submitButton,nextButton])\n",
    "display(categoryButton)\n",
    "display(goButton)\n",
    "\n",
    "# Question, User Answer, Correct Answer, Results, and End Game Widgets\n",
    "question = widgets.Label()\n",
    "user_answer = widgets.Text(placeholder='Answer here...',description='Answer:')\n",
    "correct_answer = widgets.Text()\n",
    "result = widgets.Label()\n",
    "end_game = widgets.Label()\n",
    "\n",
    "# On_Click Methods\n",
    "goButton.on_click(beginGame)\n",
    "submitButton.on_click(submitAnswer)\n",
    "nextButton.on_click(nextQuestion)"
   ]
  },
  {
   "cell_type": "code",
   "execution_count": null,
   "metadata": {},
   "outputs": [],
   "source": []
  }
 ],
 "metadata": {
  "kernelspec": {
   "display_name": "Python 3",
   "language": "python",
   "name": "python3"
  },
  "language_info": {
   "codemirror_mode": {
    "name": "ipython",
    "version": 3
   },
   "file_extension": ".py",
   "mimetype": "text/x-python",
   "name": "python",
   "nbconvert_exporter": "python",
   "pygments_lexer": "ipython3",
   "version": "3.7.3"
  }
 },
 "nbformat": 4,
 "nbformat_minor": 2
}
